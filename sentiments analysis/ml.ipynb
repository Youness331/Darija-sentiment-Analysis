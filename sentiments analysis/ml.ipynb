{
 "cells": [
  {
   "cell_type": "markdown",
   "metadata": {},
   "source": [
    "# 📊 Sentiment Analysis with Machine Learning and Deep Learning\n",
    "\n",
    "This notebook demonstrates sentiment analysis on Arabic/Darija text using multiple approaches:\n",
    "\n",
    "## 🎯 Objectives\n",
    "- Implement and compare traditional ML algorithms (SVM, KNN, Naive Bayes)\n",
    "- Build deep learning models (Bidirectional LSTM, CNN)\n",
    "- Preprocess Arabic/Darija text data\n",
    "- Evaluate and compare model performance\n",
    "\n",
    "## 📋 Workflow\n",
    "1. **Data Loading & Exploration**\n",
    "2. **Text Preprocessing**\n",
    "3. **Feature Extraction**\n",
    "4. **Traditional ML Models**\n",
    "5. **Deep Learning Models**\n",
    "6. **Model Comparison & Evaluation**"
   ]
  },
  {
   "cell_type": "code",
   "execution_count": 1,
   "metadata": {},
   "outputs": [
    {
     "name": "stderr",
     "output_type": "stream",
     "text": [
      "c:\\Users\\dell\\anaconda3\\lib\\site-packages\\scipy\\__init__.py:155: UserWarning: A NumPy version >=1.18.5 and <1.25.0 is required for this version of SciPy (detected version 1.26.4\n",
      "  warnings.warn(f\"A NumPy version >={np_minversion} and <{np_maxversion}\"\n",
      "[nltk_data] Downloading package punkt to\n",
      "[nltk_data]     C:\\Users\\dell\\AppData\\Roaming\\nltk_data...\n",
      "[nltk_data]   Package punkt is already up-to-date!\n",
      "[nltk_data] Downloading package stopwords to\n",
      "[nltk_data]     C:\\Users\\dell\\AppData\\Roaming\\nltk_data...\n",
      "[nltk_data]   Package stopwords is already up-to-date!\n"
     ]
    },
    {
     "data": {
      "text/plain": [
       "True"
      ]
     },
     "execution_count": 1,
     "metadata": {},
     "output_type": "execute_result"
    }
   ],
   "source": [
    "import pandas as pd\n",
    "import re\n",
    "from nltk.tokenize import word_tokenize\n",
    "from nltk.corpus import stopwords\n",
    "import emoji\n",
    "# Ensure NLTK stopwords are downloaded\n",
    "import nltk\n",
    "import matplotlib.pyplot as plt\n",
    "nltk.download('punkt')\n",
    "nltk.download('stopwords')"
   ]
  },
  {
   "cell_type": "markdown",
   "metadata": {},
   "source": [
    "## 📁 Data Loading and Exploration\n",
    "\n",
    "Load the sentiment analysis dataset and stopwords file. The dataset contains sentences with their corresponding polarity labels."
   ]
  },
  {
   "cell_type": "code",
   "execution_count": 2,
   "metadata": {},
   "outputs": [],
   "source": [
    "df = pd.read_csv('DATA_CLEANED.csv', header=0,names=['sentence','polarity'],encoding='utf-16')"
   ]
  },
  {
   "cell_type": "code",
   "execution_count": 3,
   "metadata": {},
   "outputs": [
    {
     "data": {
      "text/html": [
       "<div>\n",
       "<style scoped>\n",
       "    .dataframe tbody tr th:only-of-type {\n",
       "        vertical-align: middle;\n",
       "    }\n",
       "\n",
       "    .dataframe tbody tr th {\n",
       "        vertical-align: top;\n",
       "    }\n",
       "\n",
       "    .dataframe thead th {\n",
       "        text-align: right;\n",
       "    }\n",
       "</style>\n",
       "<table border=\"1\" class=\"dataframe\">\n",
       "  <thead>\n",
       "    <tr style=\"text-align: right;\">\n",
       "      <th></th>\n",
       "      <th>sentence</th>\n",
       "      <th>polarity</th>\n",
       "    </tr>\n",
       "  </thead>\n",
       "  <tbody>\n",
       "    <tr>\n",
       "      <th>0</th>\n",
       "      <td>انسان عبارة عن دواء للإكتئاب❤🎤</td>\n",
       "      <td>1</td>\n",
       "    </tr>\n",
       "    <tr>\n",
       "      <th>1</th>\n",
       "      <td>نحبك يا فنان وااااااحسااااااااان❤</td>\n",
       "      <td>1</td>\n",
       "    </tr>\n",
       "    <tr>\n",
       "      <th>2</th>\n",
       "      <td>Stream zuin😂 Thank you ilyas ❤️🫶</td>\n",
       "      <td>1</td>\n",
       "    </tr>\n",
       "    <tr>\n",
       "      <th>3</th>\n",
       "      <td>وحق الرب الى دوا د الاكتئاب الأسطورة❤️❤️❤️❤️😂</td>\n",
       "      <td>1</td>\n",
       "    </tr>\n",
       "    <tr>\n",
       "      <th>4</th>\n",
       "      <td>اسطورة بكل ما تحمل الكلمة من معنى ❤</td>\n",
       "      <td>1</td>\n",
       "    </tr>\n",
       "  </tbody>\n",
       "</table>\n",
       "</div>"
      ],
      "text/plain": [
       "                                        sentence  polarity\n",
       "0                 انسان عبارة عن دواء للإكتئاب❤🎤         1\n",
       "1              نحبك يا فنان وااااااحسااااااااان❤         1\n",
       "2               Stream zuin😂 Thank you ilyas ❤️🫶         1\n",
       "3  وحق الرب الى دوا د الاكتئاب الأسطورة❤️❤️❤️❤️😂         1\n",
       "4            اسطورة بكل ما تحمل الكلمة من معنى ❤         1"
      ]
     },
     "execution_count": 3,
     "metadata": {},
     "output_type": "execute_result"
    }
   ],
   "source": [
    "df.head()"
   ]
  },
  {
   "cell_type": "code",
   "execution_count": 4,
   "metadata": {},
   "outputs": [],
   "source": [
    "stopwords_df = pd.read_csv('Stop_words .csv', header=None, names=['stopword'],encoding='utf-16')\n",
    "darija_stopwords = set(stopwords_df['stopword'])\n",
    "arabic_stopwords = set(stopwords.words('arabic'))\n",
    "#union darija with arabic stop words\n",
    "stopwords = darija_stopwords.union(arabic_stopwords)"
   ]
  },
  {
   "cell_type": "code",
   "execution_count": 5,
   "metadata": {},
   "outputs": [],
   "source": [
    "emoji_pattern = re.compile(\n",
    "    \"[\\U0001F600-\\U0001F64F]\"  # emoticons\n",
    "    \"|[\\U0001F300-\\U0001F5FF]\"  # symbols & pictographs\n",
    "    \"|[\\U0001F680-\\U0001F6FF]\"  # transport & map symbols\n",
    "    \"|[\\U0001F1E0-\\U0001F1FF]\"  # flags (iOS)\n",
    "    \"|[\\U00002702-\\U000027B0]\"  # other symbols\n",
    "    \"|[\\U000024C2-\\U0001F251]\"  # enclosed characters\n",
    "    \"+\", flags=re.UNICODE)"
   ]
  },
  {
   "cell_type": "markdown",
   "metadata": {},
   "source": [
    "### Text Cleaning Function\n",
    "Comprehensive text preprocessing function that:\n",
    "- Removes HTML tags\n",
    "- Normalizes Arabic text and removes diacritics\n",
    "- Handles emoji normalization\n",
    "- Removes numbers and repetitive characters\n",
    "- Tokenizes and removes stopwords"
   ]
  },
  {
   "cell_type": "code",
   "execution_count": 6,
   "metadata": {},
   "outputs": [],
   "source": [
    "def clean_text(text):\n",
    "    # Remove HTML tags\n",
    "    text = re.sub(r'<[^>]+>', '', text)\n",
    "\n",
    "    #Normalize Arabic text\n",
    "    # Remove Harakat (diacritics)\n",
    "    text = re.sub(r'[\\u064B-\\u0652]', '', text)\n",
    "    # Normalize different forms of Arabic letters\n",
    "    text = re.sub(r'[أإآ]', 'ا', text)  # Normalize 'أ', 'إ', 'آ' to 'ا'\n",
    "    text = re.sub(r'ُ|ُ|ٰ|ۥ', 'و', text)  \n",
    "     # Remove numbers\n",
    "    text = re.sub(r'\\d+', '', text)\n",
    "     \n",
    "    \n",
    "    # Remove repetitive letters \n",
    "    text = re.sub(r'(.)\\1+', r'\\1\\1', text)\n",
    "    #remove repetitive emojies to only one emoji\n",
    "    text = emoji_pattern.sub(lambda x: x.group(0)[0], text)\n",
    "    # Tokenize the text\n",
    "    tokens = word_tokenize(text)\n",
    "    # Remove stopwords\n",
    "    filtered_tokens = [word for word in tokens if word not in stopwords]\n",
    "\n",
    "    return ' '.join(filtered_tokens)\n"
   ]
  },
  {
   "cell_type": "code",
   "execution_count": 7,
   "metadata": {},
   "outputs": [],
   "source": [
    "df['cleaned_sentence'] = df['sentence'].apply(clean_text)"
   ]
  },
  {
   "cell_type": "code",
   "execution_count": 8,
   "metadata": {},
   "outputs": [
    {
     "data": {
      "text/html": [
       "<div>\n",
       "<style scoped>\n",
       "    .dataframe tbody tr th:only-of-type {\n",
       "        vertical-align: middle;\n",
       "    }\n",
       "\n",
       "    .dataframe tbody tr th {\n",
       "        vertical-align: top;\n",
       "    }\n",
       "\n",
       "    .dataframe thead th {\n",
       "        text-align: right;\n",
       "    }\n",
       "</style>\n",
       "<table border=\"1\" class=\"dataframe\">\n",
       "  <thead>\n",
       "    <tr style=\"text-align: right;\">\n",
       "      <th></th>\n",
       "      <th>sentence</th>\n",
       "      <th>polarity</th>\n",
       "      <th>cleaned_sentence</th>\n",
       "    </tr>\n",
       "  </thead>\n",
       "  <tbody>\n",
       "    <tr>\n",
       "      <th>0</th>\n",
       "      <td>انسان عبارة عن دواء للإكتئاب❤🎤</td>\n",
       "      <td>1</td>\n",
       "      <td>انسان عبارة دواء للاكتئاب❤🎤</td>\n",
       "    </tr>\n",
       "    <tr>\n",
       "      <th>1</th>\n",
       "      <td>نحبك يا فنان وااااااحسااااااااان❤</td>\n",
       "      <td>1</td>\n",
       "      <td>نحبك فنان وااحساان❤</td>\n",
       "    </tr>\n",
       "    <tr>\n",
       "      <th>2</th>\n",
       "      <td>Stream zuin😂 Thank you ilyas ❤️🫶</td>\n",
       "      <td>1</td>\n",
       "      <td>Stream zuin😂 Thank you ilyas ❤️🫶</td>\n",
       "    </tr>\n",
       "    <tr>\n",
       "      <th>3</th>\n",
       "      <td>وحق الرب الى دوا د الاكتئاب الأسطورة❤️❤️❤️❤️😂</td>\n",
       "      <td>1</td>\n",
       "      <td>وحق الرب الى دوا الاكتئاب الاسطورة❤️😂</td>\n",
       "    </tr>\n",
       "    <tr>\n",
       "      <th>4</th>\n",
       "      <td>اسطورة بكل ما تحمل الكلمة من معنى ❤</td>\n",
       "      <td>1</td>\n",
       "      <td>اسطورة بكل تحمل الكلمة معنى ❤</td>\n",
       "    </tr>\n",
       "  </tbody>\n",
       "</table>\n",
       "</div>"
      ],
      "text/plain": [
       "                                        sentence  polarity  \\\n",
       "0                 انسان عبارة عن دواء للإكتئاب❤🎤         1   \n",
       "1              نحبك يا فنان وااااااحسااااااااان❤         1   \n",
       "2               Stream zuin😂 Thank you ilyas ❤️🫶         1   \n",
       "3  وحق الرب الى دوا د الاكتئاب الأسطورة❤️❤️❤️❤️😂         1   \n",
       "4            اسطورة بكل ما تحمل الكلمة من معنى ❤         1   \n",
       "\n",
       "                        cleaned_sentence  \n",
       "0            انسان عبارة دواء للاكتئاب❤🎤  \n",
       "1                    نحبك فنان وااحساان❤  \n",
       "2       Stream zuin😂 Thank you ilyas ❤️🫶  \n",
       "3  وحق الرب الى دوا الاكتئاب الاسطورة❤️😂  \n",
       "4          اسطورة بكل تحمل الكلمة معنى ❤  "
      ]
     },
     "execution_count": 8,
     "metadata": {},
     "output_type": "execute_result"
    }
   ],
   "source": [
    "# Display the cleaned dataset\n",
    "df.head()\n"
   ]
  },
  {
   "cell_type": "code",
   "execution_count": 9,
   "metadata": {},
   "outputs": [],
   "source": [
    "# Optionally, save the cleaned dataset\n",
    "df.to_csv('cleaned_dataset.csv', index=False)"
   ]
  },
  {
   "cell_type": "code",
   "execution_count": 10,
   "metadata": {},
   "outputs": [],
   "source": [
    "df['polarity']=df['polarity'].astype(int)"
   ]
  },
  {
   "cell_type": "code",
   "execution_count": 11,
   "metadata": {},
   "outputs": [],
   "source": [
    "df['polarity']=df['polarity'].replace(-1,0)"
   ]
  },
  {
   "cell_type": "code",
   "execution_count": 12,
   "metadata": {},
   "outputs": [
    {
     "data": {
      "text/plain": [
       "array([1, 0])"
      ]
     },
     "execution_count": 12,
     "metadata": {},
     "output_type": "execute_result"
    }
   ],
   "source": [
    "df['polarity'].unique()"
   ]
  },
  {
   "cell_type": "markdown",
   "metadata": {},
   "source": [
    "## 🔍 Feature Extraction and Data Preparation\n",
    "\n",
    "Transform text data into numerical features using TF-IDF vectorization and split the dataset for training and testing."
   ]
  },
  {
   "cell_type": "code",
   "execution_count": 13,
   "metadata": {},
   "outputs": [],
   "source": [
    "from sklearn.feature_extraction.text import TfidfVectorizer\n",
    "from sklearn.model_selection import train_test_split\n",
    "from sklearn.metrics import classification_report, accuracy_score\n",
    "from sklearn.svm import SVC\n"
   ]
  },
  {
   "cell_type": "code",
   "execution_count": 14,
   "metadata": {},
   "outputs": [],
   "source": [
    "# Separate features and labels\n",
    "X = df['cleaned_sentence']\n",
    "y = df['polarity']\n",
    "\n",
    "# Vectorize the text data\n",
    "vectorizer = TfidfVectorizer()\n",
    "X_vectorized = vectorizer.fit_transform(X)\n",
    "\n",
    "# Split the dataset into training and testing sets\n",
    "X_train, X_test, y_train, y_test = train_test_split(X_vectorized, y, test_size=0.3, random_state=42)"
   ]
  },
  {
   "cell_type": "markdown",
   "metadata": {},
   "source": [
    "# 🤖 Traditional Machine Learning Models\n",
    "\n",
    "## 1. Support Vector Machine (SVM)\n",
    "Train and evaluate an SVM model with linear kernel for sentiment classification."
   ]
  },
  {
   "cell_type": "code",
   "execution_count": 15,
   "metadata": {},
   "outputs": [
    {
     "data": {
      "text/plain": [
       "SVC(kernel='linear')"
      ]
     },
     "execution_count": 15,
     "metadata": {},
     "output_type": "execute_result"
    }
   ],
   "source": [
    "# Initialize and train the SVM model\n",
    "svm_model = SVC(kernel='linear', C=1.0, gamma='scale')  \n",
    "svm_model.fit(X_train, y_train)"
   ]
  },
  {
   "cell_type": "code",
   "execution_count": 16,
   "metadata": {},
   "outputs": [],
   "source": [
    "# Make predictions\n",
    "y_pred_test = svm_model.predict(X_test)\n",
    "y_pred_train=svm_model.predict(X_train)\n",
    "# Evaluate the model\n",
    "accuracy_test = accuracy_score(y_test, y_pred_test)\n",
    "accuracy_train=accuracy_score(y_train,y_pred_train)\n",
    "svm_report_test=classification_report(y_test, y_pred_test,output_dict=True)\n",
    "svm_report_train=classification_report(y_train, y_pred_train,output_dict=True)"
   ]
  },
  {
   "cell_type": "code",
   "execution_count": 17,
   "metadata": {},
   "outputs": [
    {
     "name": "stdout",
     "output_type": "stream",
     "text": [
      "test Set\n",
      "Accuracy: 0.81\n",
      "Classification Report:\n",
      "{'0': {'precision': 0.8699154248892469, 'recall': 0.7260504201680672, 'f1-score': 0.7914987174789301, 'support': 2975}, '1': {'precision': 0.7681365576102418, 'recall': 0.8931524975190208, 'f1-score': 0.8259406546344449, 'support': 3023}, 'accuracy': 0.81027009003001, 'macro avg': {'precision': 0.8190259912497444, 'recall': 0.8096014588435441, 'f1-score': 0.8087196860566874, 'support': 5998}, 'weighted avg': {'precision': 0.8186187400302218, 'recall': 0.81027009003001, 'f1-score': 0.808857499743205, 'support': 5998}}\n",
      "train Set\n",
      "Accuracy: 0.95\n",
      "Classification Report:\n",
      "{'0': {'precision': 0.9805517865219358, 'recall': 0.926891834117144, 'f1-score': 0.9529670329670329, 'support': 7017}, '1': {'precision': 0.9302989130434782, 'recall': 0.9815080275229358, 'f1-score': 0.9552176339285714, 'support': 6976}, 'accuracy': 0.9541199171014079, 'macro avg': {'precision': 0.955425349782707, 'recall': 0.95419993082004, 'f1-score': 0.9540923334478022, 'support': 13993}, 'weighted avg': {'precision': 0.955498971158131, 'recall': 0.9541199171014079, 'f1-score': 0.9540890362763798, 'support': 13993}}\n"
     ]
    }
   ],
   "source": [
    "print('test Set')\n",
    "print(f'Accuracy: {accuracy_test:.2f}')\n",
    "print('Classification Report:')\n",
    "print(svm_report_test)\n",
    "print('train Set')\n",
    "print(f'Accuracy: {accuracy_train:.2f}')\n",
    "print('Classification Report:')\n",
    "print(svm_report_train)"
   ]
  },
  {
   "cell_type": "code",
   "execution_count": 18,
   "metadata": {},
   "outputs": [],
   "source": [
    "results=[]\n",
    "results.append({\n",
    "        'Model': 'SVM',\n",
    "        'Accuracy': accuracy_test,\n",
    "        'Precision': svm_report_test['weighted avg']['precision'],\n",
    "        'Recall': svm_report_test['weighted avg']['recall'],\n",
    "        'F1-Score': svm_report_test['weighted avg']['f1-score']\n",
    "    })"
   ]
  },
  {
   "cell_type": "code",
   "execution_count": 19,
   "metadata": {},
   "outputs": [],
   "source": [
    "def predict_sentiment(sentence):\n",
    "    sentence=clean_text(sentence)\n",
    "    sentence_vectorized = vectorizer.transform([sentence])\n",
    "    prediction = svm_model.predict(sentence_vectorized)\n",
    "    return prediction[0]"
   ]
  },
  {
   "cell_type": "code",
   "execution_count": 20,
   "metadata": {},
   "outputs": [
    {
     "data": {
      "text/plain": [
       "['svm_sentiment.pkl']"
      ]
     },
     "execution_count": 20,
     "metadata": {},
     "output_type": "execute_result"
    }
   ],
   "source": [
    "import joblib\n",
    " #Save the model to a file\n",
    "model_filename = 'svm_sentiment.pkl'\n",
    "joblib.dump(svm_model, model_filename)"
   ]
  },
  {
   "cell_type": "code",
   "execution_count": 21,
   "metadata": {},
   "outputs": [
    {
     "data": {
      "text/plain": [
       "['tfidf_vectorizer.pkl']"
      ]
     },
     "execution_count": 21,
     "metadata": {},
     "output_type": "execute_result"
    }
   ],
   "source": [
    "# Save the vectorizer\n",
    "vectorizer_filename = 'tfidf_vectorizer.pkl'\n",
    "joblib.dump(vectorizer, vectorizer_filename)\n"
   ]
  },
  {
   "cell_type": "markdown",
   "metadata": {},
   "source": [
    "## 2. K-Nearest Neighbors (KNN)\n",
    "Implement KNN classifier for sentiment analysis with k=5 neighbors."
   ]
  },
  {
   "cell_type": "code",
   "execution_count": 22,
   "metadata": {},
   "outputs": [],
   "source": [
    "from sklearn.neighbors import KNeighborsClassifier"
   ]
  },
  {
   "cell_type": "code",
   "execution_count": 23,
   "metadata": {},
   "outputs": [
    {
     "data": {
      "text/plain": [
       "KNeighborsClassifier()"
      ]
     },
     "execution_count": 23,
     "metadata": {},
     "output_type": "execute_result"
    }
   ],
   "source": [
    "# Initialize and train the KNN model\n",
    "knn = KNeighborsClassifier(n_neighbors=5)\n",
    "knn.fit(X_train, y_train)\n",
    "\n"
   ]
  },
  {
   "cell_type": "code",
   "execution_count": 24,
   "metadata": {},
   "outputs": [
    {
     "name": "stderr",
     "output_type": "stream",
     "text": [
      "c:\\Users\\dell\\anaconda3\\lib\\site-packages\\sklearn\\neighbors\\_classification.py:228: FutureWarning: Unlike other reduction functions (e.g. `skew`, `kurtosis`), the default behavior of `mode` typically preserves the axis it acts along. In SciPy 1.11.0, this behavior will change: the default value of `keepdims` will become False, the `axis` over which the statistic is taken will be eliminated, and the value None will no longer be accepted. Set `keepdims` to True or False to avoid this warning.\n",
      "  mode, _ = stats.mode(_y[neigh_ind, k], axis=1)\n"
     ]
    },
    {
     "name": "stdout",
     "output_type": "stream",
     "text": [
      "Accuracy: 0.81027009003001\n",
      "{'0': {'precision': 0.6456824512534819, 'recall': 0.3895798319327731, 'f1-score': 0.4859538784067087, 'support': 2975}, '1': {'precision': 0.5679276707113966, 'recall': 0.7896129672510751, 'f1-score': 0.6606698034874066, 'support': 3023}, 'accuracy': 0.5911970656885629, 'macro avg': {'precision': 0.6068050609824392, 'recall': 0.5895963995919241, 'f1-score': 0.5733118409470577, 'support': 5998}, 'weighted avg': {'precision': 0.606493938152661, 'recall': 0.5911970656885629, 'f1-score': 0.5740109376796246, 'support': 5998}}\n"
     ]
    }
   ],
   "source": [
    "y_pred_test = knn.predict(X_test)\n",
    "\n",
    "# Evaluate the model\n",
    "accuracy_test_knn = accuracy_score(y_test, y_pred_test)\n",
    "knn_report_test = classification_report(y_test, y_pred_test,output_dict=True)\n",
    "\n",
    "print(f'Accuracy: {accuracy_test}')\n",
    "print(knn_report_test)"
   ]
  },
  {
   "cell_type": "code",
   "execution_count": 25,
   "metadata": {},
   "outputs": [
    {
     "name": "stderr",
     "output_type": "stream",
     "text": [
      "c:\\Users\\dell\\anaconda3\\lib\\site-packages\\sklearn\\neighbors\\_classification.py:228: FutureWarning: Unlike other reduction functions (e.g. `skew`, `kurtosis`), the default behavior of `mode` typically preserves the axis it acts along. In SciPy 1.11.0, this behavior will change: the default value of `keepdims` will become False, the `axis` over which the statistic is taken will be eliminated, and the value None will no longer be accepted. Set `keepdims` to True or False to avoid this warning.\n",
      "  mode, _ = stats.mode(_y[neigh_ind, k], axis=1)\n"
     ]
    },
    {
     "name": "stdout",
     "output_type": "stream",
     "text": [
      "Accuracy: 0.7362252554848853\n",
      "{'0': {'precision': 0.8348771647200967, 'recall': 0.5908507909362976, 'f1-score': 0.6919803054326963, 'support': 7017}, '1': {'precision': 0.6819541375872383, 'recall': 0.882454128440367, 'f1-score': 0.7693557457976629, 'support': 6976}, 'accuracy': 0.7362252554848853, 'macro avg': {'precision': 0.7584156511536675, 'recall': 0.7366524596883323, 'f1-score': 0.7306680256151796, 'support': 13993}, 'weighted avg': {'precision': 0.7586396861751942, 'recall': 0.7362252554848853, 'f1-score': 0.7305546691850016, 'support': 13993}}\n"
     ]
    }
   ],
   "source": [
    "y_pred_train = knn.predict(X_train)\n",
    "\n",
    "# Evaluate the model\n",
    "accuracy_train = accuracy_score(y_train, y_pred_train)\n",
    "knn_report_train = classification_report(y_train, y_pred_train,output_dict=True)\n",
    "\n",
    "print(f'Accuracy: {accuracy_train}')\n",
    "print(knn_report_train)\n"
   ]
  },
  {
   "cell_type": "code",
   "execution_count": 26,
   "metadata": {},
   "outputs": [],
   "source": [
    "results.append({\n",
    "        'Model': 'KNN',\n",
    "        'Accuracy': accuracy_test_knn,\n",
    "        'Precision': knn_report_test['weighted avg']['precision'],\n",
    "        'Recall': knn_report_test['weighted avg']['recall'],\n",
    "        'F1-Score': knn_report_test['weighted avg']['f1-score']\n",
    "    })"
   ]
  },
  {
   "cell_type": "markdown",
   "metadata": {},
   "source": [
    "## 3. Naive Bayes\n",
    "Implement Multinomial Naive Bayes classifier for sentiment analysis."
   ]
  },
  {
   "cell_type": "code",
   "execution_count": 27,
   "metadata": {},
   "outputs": [],
   "source": [
    "from sklearn.naive_bayes import MultinomialNB"
   ]
  },
  {
   "cell_type": "code",
   "execution_count": 28,
   "metadata": {},
   "outputs": [
    {
     "data": {
      "text/plain": [
       "MultinomialNB(alpha=1)"
      ]
     },
     "execution_count": 28,
     "metadata": {},
     "output_type": "execute_result"
    }
   ],
   "source": [
    "nb_model = MultinomialNB(alpha=1)\n",
    "nb_model.fit(X_train, y_train)"
   ]
  },
  {
   "cell_type": "code",
   "execution_count": 29,
   "metadata": {},
   "outputs": [],
   "source": [
    "#make predictions\n",
    "y_pred_test = nb_model.predict(X_test)\n",
    "y_pred_train = nb_model.predict(X_train)"
   ]
  },
  {
   "cell_type": "code",
   "execution_count": 30,
   "metadata": {},
   "outputs": [],
   "source": [
    "#evaluate\n",
    "accuracy_test_nb = accuracy_score(y_test, y_pred_test)\n",
    "accuracy_train_nb = accuracy_score(y_train, y_pred_train)\n",
    "nb_report_test = classification_report(y_test, y_pred_test,output_dict=True)\n",
    "nb_report_train = classification_report(y_train, y_pred_train,output_dict=True)"
   ]
  },
  {
   "cell_type": "code",
   "execution_count": 31,
   "metadata": {},
   "outputs": [
    {
     "name": "stdout",
     "output_type": "stream",
     "text": [
      "Accuracy: 0.800433477825942\n",
      "{'0': {'precision': 0.7916666666666666, 'recall': 0.8110924369747899, 'f1-score': 0.8012618296529967, 'support': 2975}, '1': {'precision': 0.8094915254237288, 'recall': 0.7899437644723785, 'f1-score': 0.7995981918633852, 'support': 3023}, 'accuracy': 0.800433477825942, 'macro avg': {'precision': 0.8005790960451977, 'recall': 0.8005181007235842, 'f1-score': 0.800430010758191, 'support': 5998}, 'weighted avg': {'precision': 0.8006504192546291, 'recall': 0.800433477825942, 'f1-score': 0.8004233539881093, 'support': 5998}}\n",
      "Accuracy: 0.924104909597656\n",
      "{'0': {'precision': 0.9074859723552757, 'recall': 0.9449907367821007, 'f1-score': 0.9258586986875175, 'support': 7017}, '1': {'precision': 0.9422674244690398, 'recall': 0.9030963302752294, 'f1-score': 0.922266139657444, 'support': 6976}, 'accuracy': 0.924104909597656, 'macro avg': {'precision': 0.9248766984121577, 'recall': 0.924043533528665, 'f1-score': 0.9240624191724807, 'support': 13993}, 'weighted avg': {'precision': 0.9248257429509749, 'recall': 0.924104909597656, 'f1-score': 0.9240676823369285, 'support': 13993}}\n"
     ]
    }
   ],
   "source": [
    "#print\n",
    "print(f'Accuracy: {accuracy_test_nb}')\n",
    "print(nb_report_test)\n",
    "print(f'Accuracy: {accuracy_train_nb}')\n",
    "print(nb_report_train)"
   ]
  },
  {
   "cell_type": "code",
   "execution_count": 32,
   "metadata": {},
   "outputs": [],
   "source": [
    "results.append({\n",
    "        'Model': 'NB',\n",
    "        'Accuracy': accuracy_test_nb,\n",
    "        'Precision': nb_report_test['weighted avg']['precision'],\n",
    "        'Recall': nb_report_test['weighted avg']['recall'],\n",
    "        'F1-Score': nb_report_test['weighted avg']['f1-score']\n",
    "    })"
   ]
  },
  {
   "cell_type": "code",
   "execution_count": 33,
   "metadata": {},
   "outputs": [
    {
     "data": {
      "image/png": "[encoded data removed]",
      "text/plain": [
       "<Figure size 1500x1000 with 4 Axes>"
      ]
     },
     "metadata": {},
     "output_type": "display_data"
    }
   ],
   "source": [
    "fig, ax = plt.subplots(2, 2, figsize=(15, 10))\n",
    "df_results=pd.DataFrame(results)\n",
    "df_results.plot(kind='bar', x='Model', y='Accuracy', ax=ax[0, 0], color='skyblue')\n",
    "ax[0, 0].set_title('Model Accuracy')\n",
    "ax[0, 0].set_ylabel('Accuracy')\n",
    "\n",
    "# Precision\n",
    "df_results.plot(kind='bar', x='Model', y='Precision', ax=ax[0, 1], color='red')\n",
    "ax[0, 1].set_title('Model Precision')\n",
    "ax[0, 1].set_ylabel('Precision')\n",
    "\n",
    "# Recall\n",
    "df_results.plot(kind='bar', x='Model', y='Recall', ax=ax[1, 0], color='lightcoral')\n",
    "ax[1, 0].set_title('Model Recall')\n",
    "ax[1, 0].set_ylabel('Recall')\n",
    "\n",
    "# F1-Score\n",
    "df_results.plot(kind='bar', x='Model', y='F1-Score', ax=ax[1, 1], color='green')\n",
    "ax[1, 1].set_title('Model F1-Score')\n",
    "ax[1, 1].set_ylabel('F1-Score')\n",
    "\n",
    "plt.tight_layout()\n",
    "plt.show()"
   ]
  },
  {
   "cell_type": "markdown",
   "metadata": {},
   "source": [
    "# 🧠 Deep Learning Models\n",
    "\n",
    "Now we'll implement and compare deep learning models for sentiment analysis. These models can capture more complex patterns in the text data."
   ]
  },
  {
   "cell_type": "markdown",
   "metadata": {},
   "source": [
    "## 🔧 Deep Learning Data Preparation\n",
    "Prepare data specifically for deep learning models with tokenization and sequence padding."
   ]
  },
  {
   "cell_type": "code",
   "execution_count": 34,
   "metadata": {},
   "outputs": [],
   "source": [
    "sentences=df['cleaned_sentence'].values\n",
    "labels=df['polarity'].values\n",
    "train_sentences, test_sentences, train_labels, test_labels = train_test_split(sentences,labels)"
   ]
  },
  {
   "cell_type": "code",
   "execution_count": 35,
   "metadata": {},
   "outputs": [],
   "source": [
    "from keras.preprocessing.text import Tokenizer\n",
    "from keras.utils import pad_sequences\n",
    "import keras"
   ]
  },
  {
   "cell_type": "code",
   "execution_count": 36,
   "metadata": {},
   "outputs": [
    {
     "data": {
      "text/plain": [
       "['tokenizer.pkl']"
      ]
     },
     "execution_count": 36,
     "metadata": {},
     "output_type": "execute_result"
    }
   ],
   "source": [
    "# Hyperparameters of the model\n",
    "vocab_size = 3000 \n",
    "oov_tok = ''\n",
    "embedding_dim = 100\n",
    "max_length = 200 \n",
    "padding_type='post'\n",
    "trunc_type='post'\n",
    "# tokenize sentences\n",
    "tokenizer = Tokenizer(num_words = vocab_size, oov_token=oov_tok)\n",
    "tokenizer.fit_on_texts(train_sentences)\n",
    "word_index = tokenizer.word_index\n",
    "# convert train dataset to sequence and pad sequences\n",
    "train_sequences = tokenizer.texts_to_sequences(train_sentences)\n",
    "train_padded = pad_sequences(train_sequences, padding='post', maxlen=max_length)\n",
    "joblib.dump(tokenizer, 'tokenizer.pkl')"
   ]
  },
  {
   "cell_type": "markdown",
   "metadata": {},
   "source": [
    "### Test Data Preparation\n",
    "Prepare test sequences for model evaluation."
   ]
  },
  {
   "cell_type": "code",
   "execution_count": 37,
   "metadata": {},
   "outputs": [],
   "source": [
    "# convert Test dataset to sequence and pad sequences\n",
    "test_sequences = tokenizer.texts_to_sequences(test_sentences)\n",
    "test_padded = pad_sequences(test_sequences, padding='post', maxlen=max_length)"
   ]
  },
  {
   "cell_type": "markdown",
   "metadata": {},
   "source": [
    "## 1. Bidirectional LSTM Model\n",
    "Build and train a Bidirectional LSTM neural network for sentiment classification."
   ]
  },
  {
   "cell_type": "code",
   "execution_count": 38,
   "metadata": {},
   "outputs": [
    {
     "name": "stdout",
     "output_type": "stream",
     "text": [
      "Model: \"sequential\"\n",
      "_________________________________________________________________\n",
      " Layer (type)                Output Shape              Param #   \n",
      "=================================================================\n",
      " embedding (Embedding)       (None, 200, 100)          300000    \n",
      "                                                                 \n",
      " bidirectional (Bidirectiona  (None, 200, 128)         84480     \n",
      " l)                                                              \n",
      "                                                                 \n",
      " dropout (Dropout)           (None, 200, 128)          0         \n",
      "                                                                 \n",
      " bidirectional_1 (Bidirectio  (None, 64)               41216     \n",
      " nal)                                                            \n",
      "                                                                 \n",
      " dense (Dense)               (None, 24)                1560      \n",
      "                                                                 \n",
      " dropout_1 (Dropout)         (None, 24)                0         \n",
      "                                                                 \n",
      " dense_1 (Dense)             (None, 1)                 25        \n",
      "                                                                 \n",
      "=================================================================\n",
      "Total params: 427,281\n",
      "Trainable params: 427,281\n",
      "Non-trainable params: 0\n",
      "_________________________________________________________________\n"
     ]
    }
   ],
   "source": [
    "model = keras.Sequential([\n",
    "    keras.layers.Embedding(vocab_size, embedding_dim, input_length=max_length),\n",
    "    keras.layers.Bidirectional(keras.layers.LSTM(64, return_sequences=True)),\n",
    "    keras.layers.Dropout(0.5),  # Dropout after LSTM layer\n",
    "    keras.layers.Bidirectional(keras.layers.LSTM(32)),\n",
    "    keras.layers.Dense(24, activation='relu'),\n",
    "    keras.layers.Dropout(0.5),  # Dropout after Dense layer\n",
    "    keras.layers.Dense(1, activation='sigmoid')\n",
    "])\n",
    "\n",
    "# compile model\n",
    "model.compile(loss='binary_crossentropy',\n",
    "              optimizer='adam',\n",
    "              metrics=['accuracy'])\n",
    "# model summary\n",
    "model.summary()"
   ]
  },
  {
   "cell_type": "code",
   "execution_count": 39,
   "metadata": {},
   "outputs": [],
   "source": [
    "from keras.callbacks import ModelCheckpoint"
   ]
  },
  {
   "cell_type": "code",
   "execution_count": 40,
   "metadata": {},
   "outputs": [
    {
     "name": "stdout",
     "output_type": "stream",
     "text": [
      "Epoch 1/5\n",
      "422/422 [==============================] - ETA: 0s - loss: 0.3988 - accuracy: 0.8091\n",
      "Epoch 1: val_loss improved from -inf to 0.26820, saving model to best_model.h5\n",
      "422/422 [==============================] - 257s 572ms/step - loss: 0.3988 - accuracy: 0.8091 - val_loss: 0.2682 - val_accuracy: 0.8867\n",
      "Epoch 2/5\n",
      "422/422 [==============================] - ETA: 0s - loss: 0.2459 - accuracy: 0.8990\n",
      "Epoch 2: val_loss improved from 0.26820 to 0.27148, saving model to best_model.h5\n",
      "422/422 [==============================] - 157s 373ms/step - loss: 0.2459 - accuracy: 0.8990 - val_loss: 0.2715 - val_accuracy: 0.8860\n",
      "Epoch 3/5\n",
      "422/422 [==============================] - ETA: 0s - loss: 0.2095 - accuracy: 0.9130\n",
      "Epoch 3: val_loss improved from 0.27148 to 0.29107, saving model to best_model.h5\n",
      "422/422 [==============================] - 157s 372ms/step - loss: 0.2095 - accuracy: 0.9130 - val_loss: 0.2911 - val_accuracy: 0.8860\n",
      "Epoch 4/5\n",
      "422/422 [==============================] - ETA: 0s - loss: 0.1855 - accuracy: 0.9206\n",
      "Epoch 4: val_loss improved from 0.29107 to 0.32475, saving model to best_model.h5\n",
      "422/422 [==============================] - 155s 367ms/step - loss: 0.1855 - accuracy: 0.9206 - val_loss: 0.3247 - val_accuracy: 0.8787\n",
      "Epoch 5/5\n",
      "422/422 [==============================] - ETA: 0s - loss: 0.1651 - accuracy: 0.9282\n",
      "Epoch 5: val_loss improved from 0.32475 to 0.36554, saving model to best_model.h5\n",
      "422/422 [==============================] - 172s 408ms/step - loss: 0.1651 - accuracy: 0.9282 - val_loss: 0.3655 - val_accuracy: 0.8767\n"
     ]
    }
   ],
   "source": [
    "# Define the checkpoint callback\n",
    "checkpoint = ModelCheckpoint('best_model.h5', \n",
    "                             monitor='val_loss', \n",
    "                             verbose=1, \n",
    "                             save_best_only=True, \n",
    "                             mode='max')\n",
    "\n",
    "# Train the model with the checkpoint callback\n",
    "num_epochs = 5\n",
    "history = model.fit(train_padded, train_labels, \n",
    "                    epochs=num_epochs, \n",
    "                    verbose=1, \n",
    "                    validation_split=0.1,\n",
    "                    callbacks=[checkpoint])\n"
   ]
  },
  {
   "cell_type": "code",
   "execution_count": 42,
   "metadata": {},
   "outputs": [],
   "source": [
    "bilstm_acc=history.history['val_accuracy'][-1]"
   ]
  },
  {
   "cell_type": "code",
   "execution_count": 43,
   "metadata": {},
   "outputs": [],
   "source": [
    "from tensorflow.keras import layers, models"
   ]
  },
  {
   "cell_type": "markdown",
   "metadata": {},
   "source": [
    "## 2. Convolutional Neural Network (CNN)\n",
    "Build and train a CNN model for sentiment classification using 1D convolution layers."
   ]
  },
  {
   "cell_type": "code",
   "execution_count": 44,
   "metadata": {},
   "outputs": [],
   "source": [
    "checkpoint = ModelCheckpoint('best_model.h5', monitor='val_loss', verbose=1, save_best_only=True, mode='min')"
   ]
  },
  {
   "cell_type": "code",
   "execution_count": 45,
   "metadata": {},
   "outputs": [
    {
     "name": "stdout",
     "output_type": "stream",
     "text": [
      "Epoch 1/5\n",
      "422/422 [==============================] - ETA: 0s - loss: 0.3868 - accuracy: 0.8057\n",
      "Epoch 1: val_loss improved from inf to 0.25383, saving model to best_model.h5\n",
      "422/422 [==============================] - 33s 75ms/step - loss: 0.3868 - accuracy: 0.8057 - val_loss: 0.2538 - val_accuracy: 0.8873\n",
      "Epoch 2/5\n",
      "422/422 [==============================] - ETA: 0s - loss: 0.2144 - accuracy: 0.9071\n",
      "Epoch 2: val_loss improved from 0.25383 to 0.24409, saving model to best_model.h5\n",
      "422/422 [==============================] - 32s 75ms/step - loss: 0.2144 - accuracy: 0.9071 - val_loss: 0.2441 - val_accuracy: 0.8940\n",
      "Epoch 3/5\n",
      "422/422 [==============================] - ETA: 0s - loss: 0.1645 - accuracy: 0.9297\n",
      "Epoch 3: val_loss did not improve from 0.24409\n",
      "422/422 [==============================] - 33s 78ms/step - loss: 0.1645 - accuracy: 0.9297 - val_loss: 0.2924 - val_accuracy: 0.8887\n",
      "Epoch 4/5\n",
      "422/422 [==============================] - ETA: 0s - loss: 0.1295 - accuracy: 0.9423\n",
      "Epoch 4: val_loss did not improve from 0.24409\n",
      "422/422 [==============================] - 35s 83ms/step - loss: 0.1295 - accuracy: 0.9423 - val_loss: 0.3631 - val_accuracy: 0.8793\n",
      "Epoch 5/5\n",
      "422/422 [==============================] - ETA: 0s - loss: 0.1065 - accuracy: 0.9540\n",
      "Epoch 5: val_loss did not improve from 0.24409\n",
      "422/422 [==============================] - 34s 80ms/step - loss: 0.1065 - accuracy: 0.9540 - val_loss: 0.3921 - val_accuracy: 0.8800\n"
     ]
    }
   ],
   "source": [
    "cnn_model = models.Sequential()\n",
    "cnn_model.add(layers.Embedding(vocab_size, embedding_dim, input_length=max_length))\n",
    "cnn_model.add(layers.Conv1D(128, 5, activation='relu'))\n",
    "cnn_model.add(layers.MaxPooling1D(pool_size=2))\n",
    "cnn_model.add(layers.Flatten())\n",
    "cnn_model.add(layers.Dense(24, activation='relu'))\n",
    "cnn_model.add(layers.Dense(1, activation='sigmoid'))\n",
    "\n",
    "# Compile CNN Model\n",
    "cnn_model.compile(loss='binary_crossentropy', optimizer='adam', metrics=['accuracy'])\n",
    "\n",
    "# Train CNN Model\n",
    "cnn_history = cnn_model.fit(train_padded, train_labels, \n",
    "                            epochs=num_epochs, \n",
    "                            validation_split=0.1, \n",
    "                            callbacks=[checkpoint])"
   ]
  },
  {
   "cell_type": "markdown",
   "metadata": {},
   "source": [
    "## 📈 Deep Learning Model Evaluation and Comparison\n",
    "\n",
    "Extract validation accuracies and compare the performance of CNN vs Bidirectional LSTM models."
   ]
  },
  {
   "cell_type": "code",
   "execution_count": 49,
   "metadata": {},
   "outputs": [],
   "source": [
    "cnn_val_acc = cnn_history.history['val_accuracy'][-1]\n",
    "bilstm_acc=history.history['val_accuracy'][-1]"
   ]
  },
  {
   "cell_type": "code",
   "execution_count": 51,
   "metadata": {},
   "outputs": [
    {
     "name": "stdout",
     "output_type": "stream",
     "text": [
      "0.8799999952316284 0.8766666650772095\n"
     ]
    }
   ],
   "source": [
    "print(cnn_val_acc,bilstm_acc)"
   ]
  },
  {
   "cell_type": "code",
   "execution_count": 52,
   "metadata": {},
   "outputs": [
    {
     "data": {
      "image/png": "[encoded data removed]",
      "text/plain": [
       "<Figure size 1000x600 with 1 Axes>"
      ]
     },
     "metadata": {},
     "output_type": "display_data"
    }
   ],
   "source": [
    "models = ['CNN','BI-LSTM']\n",
    "val_accuracies = [cnn_val_acc,bilstm_acc]\n",
    "\n",
    "plt.figure(figsize=(10,6))\n",
    "plt.bar(models, val_accuracies, color=['orange','red'])\n",
    "plt.xlabel('Models')\n",
    "plt.ylabel('Validation Accuracy')\n",
    "plt.title('Model Comparison: CNN vs BI-LSTM')\n",
    "plt.show()"
   ]
  },
  {
   "cell_type": "markdown",
   "metadata": {},
   "source": [
    "## 🔮 Prediction Function for Deep Learning Models\n",
    "\n",
    "Create a utility function to predict sentiment on new text using the trained deep learning model."
   ]
  },
  {
   "cell_type": "code",
   "execution_count": 44,
   "metadata": {},
   "outputs": [],
   "source": [
    "def predict_sentiment(df, text_column, tokenizer, model, max_length, threshold=0.7):\n",
    "    # Convert the text to sequences\n",
    "    sequences = tokenizer.texts_to_sequences(df[text_column].values)\n",
    "    # Pad the sequences\n",
    "    padded = pad_sequences(sequences, padding='post', maxlen=max_length)\n",
    "    # Predict labels\n",
    "    predictions = model.predict(padded)\n",
    "    df['predicted_sentiment'] = [1 if p >= threshold else 0 for p in predictions]\n",
    "    return df"
   ]
  },
  {
   "cell_type": "markdown",
   "metadata": {},
   "source": [
    "# 🎯 Summary and Conclusions\n",
    "\n",
    "## 📊 Models Implemented:\n",
    "\n",
    "### Traditional Machine Learning:\n",
    "- **SVM (Support Vector Machine)** - Linear kernel with TF-IDF features\n",
    "- **KNN (K-Nearest Neighbors)** - k=5 neighbors\n",
    "- **Naive Bayes** - Multinomial variant for text classification\n",
    "\n",
    "### Deep Learning:\n",
    "- **Bidirectional LSTM** - Sequential model with dropout and dense layers\n",
    "- **CNN (Convolutional Neural Network)** - 1D convolution for text processing\n",
    "\n",
    "## 💾 Saved Models and Components:\n",
    "- `svm_sentiment.pkl` - Trained SVM model\n",
    "- `tfidf_vectorizer.pkl` - TF-IDF vectorizer for feature extraction\n",
    "- `tokenizer.pkl` - Keras tokenizer for deep learning models\n",
    "- `best_model.h5` - Best performing deep learning model\n",
    "\n",
    "## 🔍 Key Features:\n",
    "- Comprehensive Arabic/Darija text preprocessing\n",
    "- Emoji and special character handling\n",
    "- Stopwords removal (Arabic + Darija)\n",
    "- Text normalization and cleaning\n",
    "- Model performance comparison and visualization\n",
    "\n",
    "## 📈 Usage:\n",
    "The notebook provides end-to-end sentiment analysis pipeline from raw text to trained models, suitable for Arabic/Darija sentiment classification tasks."
   ]
  },
  {
   "cell_type": "code",
   "execution_count": null,
   "metadata": {},
   "outputs": [],
   "source": []
  }
 ],
 "metadata": {
  "kernelspec": {
   "display_name": "Python 3",
   "language": "python",
   "name": "python3"
  },
  "language_info": {
   "codemirror_mode": {
    "name": "ipython",
    "version": 3
   },
   "file_extension": ".py",
   "mimetype": "text/x-python",
   "name": "python",
   "nbconvert_exporter": "python",
   "pygments_lexer": "ipython3",
   "version": "3.11.6"
  }
 },
 "nbformat": 4,
 "nbformat_minor": 2
}
